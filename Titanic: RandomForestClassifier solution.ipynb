{
 "cells": [
  {
   "cell_type": "markdown",
   "id": "71d7c9f8",
   "metadata": {
    "papermill": {
     "duration": 0.00953,
     "end_time": "2022-10-12T07:29:07.979252",
     "exception": false,
     "start_time": "2022-10-12T07:29:07.969722",
     "status": "completed"
    },
    "tags": []
   },
   "source": [
    "# Importing libraries."
   ]
  },
  {
   "cell_type": "code",
   "execution_count": 1,
   "id": "5923396f",
   "metadata": {
    "_cell_guid": "b1076dfc-b9ad-4769-8c92-a6c4dae69d19",
    "_uuid": "8f2839f25d086af736a60e9eeb907d3b93b6e0e5",
    "execution": {
     "iopub.execute_input": "2022-10-12T07:29:07.998504Z",
     "iopub.status.busy": "2022-10-12T07:29:07.997843Z",
     "iopub.status.idle": "2022-10-12T07:29:09.210379Z",
     "shell.execute_reply": "2022-10-12T07:29:09.209425Z"
    },
    "papermill": {
     "duration": 1.225466,
     "end_time": "2022-10-12T07:29:09.213367",
     "exception": false,
     "start_time": "2022-10-12T07:29:07.987901",
     "status": "completed"
    },
    "tags": []
   },
   "outputs": [],
   "source": [
    "import os\n",
    "import pandas as pd\n",
    "\n",
    "from sklearn.ensemble import RandomForestClassifier"
   ]
  },
  {
   "cell_type": "markdown",
   "id": "3fb2d4af",
   "metadata": {
    "papermill": {
     "duration": 0.008397,
     "end_time": "2022-10-12T07:29:09.230363",
     "exception": false,
     "start_time": "2022-10-12T07:29:09.221966",
     "status": "completed"
    },
    "tags": []
   },
   "source": [
    "# Acquiring the data."
   ]
  },
  {
   "cell_type": "code",
   "execution_count": 2,
   "id": "000e5f5b",
   "metadata": {
    "execution": {
     "iopub.execute_input": "2022-10-12T07:29:09.249454Z",
     "iopub.status.busy": "2022-10-12T07:29:09.248608Z",
     "iopub.status.idle": "2022-10-12T07:29:09.311075Z",
     "shell.execute_reply": "2022-10-12T07:29:09.309968Z"
    },
    "papermill": {
     "duration": 0.075722,
     "end_time": "2022-10-12T07:29:09.314532",
     "exception": false,
     "start_time": "2022-10-12T07:29:09.238810",
     "status": "completed"
    },
    "tags": []
   },
   "outputs": [
    {
     "data": {
      "text/html": [
       "<div>\n",
       "<style scoped>\n",
       "    .dataframe tbody tr th:only-of-type {\n",
       "        vertical-align: middle;\n",
       "    }\n",
       "\n",
       "    .dataframe tbody tr th {\n",
       "        vertical-align: top;\n",
       "    }\n",
       "\n",
       "    .dataframe thead th {\n",
       "        text-align: right;\n",
       "    }\n",
       "</style>\n",
       "<table border=\"1\" class=\"dataframe\">\n",
       "  <thead>\n",
       "    <tr style=\"text-align: right;\">\n",
       "      <th></th>\n",
       "      <th>PassengerId</th>\n",
       "      <th>Survived</th>\n",
       "      <th>Pclass</th>\n",
       "      <th>Name</th>\n",
       "      <th>Sex</th>\n",
       "      <th>Age</th>\n",
       "      <th>SibSp</th>\n",
       "      <th>Parch</th>\n",
       "      <th>Ticket</th>\n",
       "      <th>Fare</th>\n",
       "      <th>Cabin</th>\n",
       "      <th>Embarked</th>\n",
       "    </tr>\n",
       "  </thead>\n",
       "  <tbody>\n",
       "    <tr>\n",
       "      <th>911</th>\n",
       "      <td>912</td>\n",
       "      <td>NaN</td>\n",
       "      <td>1</td>\n",
       "      <td>Rothschild, Mr. Martin</td>\n",
       "      <td>male</td>\n",
       "      <td>55.0</td>\n",
       "      <td>1</td>\n",
       "      <td>0</td>\n",
       "      <td>PC 17603</td>\n",
       "      <td>59.4000</td>\n",
       "      <td>NaN</td>\n",
       "      <td>C</td>\n",
       "    </tr>\n",
       "    <tr>\n",
       "      <th>260</th>\n",
       "      <td>261</td>\n",
       "      <td>0.0</td>\n",
       "      <td>3</td>\n",
       "      <td>Smith, Mr. Thomas</td>\n",
       "      <td>male</td>\n",
       "      <td>NaN</td>\n",
       "      <td>0</td>\n",
       "      <td>0</td>\n",
       "      <td>384461</td>\n",
       "      <td>7.7500</td>\n",
       "      <td>NaN</td>\n",
       "      <td>Q</td>\n",
       "    </tr>\n",
       "    <tr>\n",
       "      <th>192</th>\n",
       "      <td>193</td>\n",
       "      <td>1.0</td>\n",
       "      <td>3</td>\n",
       "      <td>Andersen-Jensen, Miss. Carla Christine Nielsine</td>\n",
       "      <td>female</td>\n",
       "      <td>19.0</td>\n",
       "      <td>1</td>\n",
       "      <td>0</td>\n",
       "      <td>350046</td>\n",
       "      <td>7.8542</td>\n",
       "      <td>NaN</td>\n",
       "      <td>S</td>\n",
       "    </tr>\n",
       "    <tr>\n",
       "      <th>24</th>\n",
       "      <td>25</td>\n",
       "      <td>0.0</td>\n",
       "      <td>3</td>\n",
       "      <td>Palsson, Miss. Torborg Danira</td>\n",
       "      <td>female</td>\n",
       "      <td>8.0</td>\n",
       "      <td>3</td>\n",
       "      <td>1</td>\n",
       "      <td>349909</td>\n",
       "      <td>21.0750</td>\n",
       "      <td>NaN</td>\n",
       "      <td>S</td>\n",
       "    </tr>\n",
       "    <tr>\n",
       "      <th>257</th>\n",
       "      <td>258</td>\n",
       "      <td>1.0</td>\n",
       "      <td>1</td>\n",
       "      <td>Cherry, Miss. Gladys</td>\n",
       "      <td>female</td>\n",
       "      <td>30.0</td>\n",
       "      <td>0</td>\n",
       "      <td>0</td>\n",
       "      <td>110152</td>\n",
       "      <td>86.5000</td>\n",
       "      <td>B77</td>\n",
       "      <td>S</td>\n",
       "    </tr>\n",
       "  </tbody>\n",
       "</table>\n",
       "</div>"
      ],
      "text/plain": [
       "     PassengerId  Survived  Pclass  \\\n",
       "911          912       NaN       1   \n",
       "260          261       0.0       3   \n",
       "192          193       1.0       3   \n",
       "24            25       0.0       3   \n",
       "257          258       1.0       1   \n",
       "\n",
       "                                                Name     Sex   Age  SibSp  \\\n",
       "911                           Rothschild, Mr. Martin    male  55.0      1   \n",
       "260                                Smith, Mr. Thomas    male   NaN      0   \n",
       "192  Andersen-Jensen, Miss. Carla Christine Nielsine  female  19.0      1   \n",
       "24                     Palsson, Miss. Torborg Danira  female   8.0      3   \n",
       "257                             Cherry, Miss. Gladys  female  30.0      0   \n",
       "\n",
       "     Parch    Ticket     Fare Cabin Embarked  \n",
       "911      0  PC 17603  59.4000   NaN        C  \n",
       "260      0    384461   7.7500   NaN        Q  \n",
       "192      0    350046   7.8542   NaN        S  \n",
       "24       1    349909  21.0750   NaN        S  \n",
       "257      0    110152  86.5000   B77        S  "
      ]
     },
     "execution_count": 2,
     "metadata": {},
     "output_type": "execute_result"
    }
   ],
   "source": [
    "df_train = pd.read_csv('/kaggle/input/titanic/train.csv')\n",
    "df_test = pd.read_csv('/kaggle/input/titanic/test.csv')\n",
    "\n",
    "#Performing concatenation on the dataframes to ease further manipulations.\n",
    "def concatenation(df_train, df_test):\n",
    "    return(pd.concat([df_train, df_test]).reset_index(drop = True))\n",
    "\n",
    "#Performing division on the concatenated dataframes.\n",
    "def division(df_all):\n",
    "    return(df_all.iloc[:890], df_all.iloc[891:].drop(['Survived'], axis = 1))\n",
    "\n",
    "df_all = concatenation(df_train, df_test)\n",
    "\n",
    "df_all.sample(5)"
   ]
  },
  {
   "cell_type": "markdown",
   "id": "d0fd0bdf",
   "metadata": {
    "papermill": {
     "duration": 0.008272,
     "end_time": "2022-10-12T07:29:09.331591",
     "exception": false,
     "start_time": "2022-10-12T07:29:09.323319",
     "status": "completed"
    },
    "tags": []
   },
   "source": [
    "# Analysis of the data.\n",
    "\n",
    "**Analysis of the dataframes.**"
   ]
  },
  {
   "cell_type": "code",
   "execution_count": 3,
   "id": "35c22df6",
   "metadata": {
    "execution": {
     "iopub.execute_input": "2022-10-12T07:29:09.352055Z",
     "iopub.status.busy": "2022-10-12T07:29:09.351617Z",
     "iopub.status.idle": "2022-10-12T07:29:09.378651Z",
     "shell.execute_reply": "2022-10-12T07:29:09.377336Z"
    },
    "papermill": {
     "duration": 0.0395,
     "end_time": "2022-10-12T07:29:09.381208",
     "exception": false,
     "start_time": "2022-10-12T07:29:09.341708",
     "status": "completed"
    },
    "tags": []
   },
   "outputs": [
    {
     "name": "stdout",
     "output_type": "stream",
     "text": [
      "<class 'pandas.core.frame.DataFrame'>\n",
      "RangeIndex: 891 entries, 0 to 890\n",
      "Data columns (total 12 columns):\n",
      " #   Column       Non-Null Count  Dtype  \n",
      "---  ------       --------------  -----  \n",
      " 0   PassengerId  891 non-null    int64  \n",
      " 1   Survived     891 non-null    int64  \n",
      " 2   Pclass       891 non-null    int64  \n",
      " 3   Name         891 non-null    object \n",
      " 4   Sex          891 non-null    object \n",
      " 5   Age          714 non-null    float64\n",
      " 6   SibSp        891 non-null    int64  \n",
      " 7   Parch        891 non-null    int64  \n",
      " 8   Ticket       891 non-null    object \n",
      " 9   Fare         891 non-null    float64\n",
      " 10  Cabin        204 non-null    object \n",
      " 11  Embarked     889 non-null    object \n",
      "dtypes: float64(2), int64(5), object(5)\n",
      "memory usage: 83.7+ KB\n",
      "\n",
      "\n",
      "PassengerId contains 0 missing values.\n",
      "Survived contains 0 missing values.\n",
      "Pclass contains 0 missing values.\n",
      "Name contains 0 missing values.\n",
      "Sex contains 0 missing values.\n",
      "Age contains 177 missing values.\n",
      "SibSp contains 0 missing values.\n",
      "Parch contains 0 missing values.\n",
      "Ticket contains 0 missing values.\n",
      "Fare contains 0 missing values.\n",
      "Cabin contains 687 missing values.\n",
      "Embarked contains 2 missing values.\n"
     ]
    }
   ],
   "source": [
    "df_train.info()\n",
    "print('\\n')\n",
    "\n",
    "for column in df_train:\n",
    "    print(f'{column} contains {df_train[column].isna().sum()} missing values.')"
   ]
  },
  {
   "cell_type": "markdown",
   "id": "223a7c78",
   "metadata": {
    "papermill": {
     "duration": 0.008466,
     "end_time": "2022-10-12T07:29:09.398937",
     "exception": false,
     "start_time": "2022-10-12T07:29:09.390471",
     "status": "completed"
    },
    "tags": []
   },
   "source": [
    "Train dataframe contains:\n",
    "* 891 rows, 12 features.\n",
    "* 3 columns with missing values, such as *Age* (177), *Cabin* (687) and *Embarked* (2).\n",
    "* 7 columns of integers or float type.\n",
    "* 5 columns of object (string) type."
   ]
  },
  {
   "cell_type": "code",
   "execution_count": 4,
   "id": "61ea21f5",
   "metadata": {
    "execution": {
     "iopub.execute_input": "2022-10-12T07:29:09.418817Z",
     "iopub.status.busy": "2022-10-12T07:29:09.418082Z",
     "iopub.status.idle": "2022-10-12T07:29:09.434990Z",
     "shell.execute_reply": "2022-10-12T07:29:09.433336Z"
    },
    "papermill": {
     "duration": 0.029709,
     "end_time": "2022-10-12T07:29:09.437492",
     "exception": false,
     "start_time": "2022-10-12T07:29:09.407783",
     "status": "completed"
    },
    "tags": []
   },
   "outputs": [
    {
     "name": "stdout",
     "output_type": "stream",
     "text": [
      "<class 'pandas.core.frame.DataFrame'>\n",
      "RangeIndex: 418 entries, 0 to 417\n",
      "Data columns (total 11 columns):\n",
      " #   Column       Non-Null Count  Dtype  \n",
      "---  ------       --------------  -----  \n",
      " 0   PassengerId  418 non-null    int64  \n",
      " 1   Pclass       418 non-null    int64  \n",
      " 2   Name         418 non-null    object \n",
      " 3   Sex          418 non-null    object \n",
      " 4   Age          332 non-null    float64\n",
      " 5   SibSp        418 non-null    int64  \n",
      " 6   Parch        418 non-null    int64  \n",
      " 7   Ticket       418 non-null    object \n",
      " 8   Fare         417 non-null    float64\n",
      " 9   Cabin        91 non-null     object \n",
      " 10  Embarked     418 non-null    object \n",
      "dtypes: float64(2), int64(4), object(5)\n",
      "memory usage: 36.0+ KB\n",
      "\n",
      "\n",
      "PassengerId contains 0 missing values.\n",
      "Pclass contains 0 missing values.\n",
      "Name contains 0 missing values.\n",
      "Sex contains 0 missing values.\n",
      "Age contains 86 missing values.\n",
      "SibSp contains 0 missing values.\n",
      "Parch contains 0 missing values.\n",
      "Ticket contains 0 missing values.\n",
      "Fare contains 1 missing values.\n",
      "Cabin contains 327 missing values.\n",
      "Embarked contains 0 missing values.\n"
     ]
    }
   ],
   "source": [
    "df_test.info()\n",
    "print('\\n')\n",
    "\n",
    "for column in df_test:\n",
    "    print(f'{column} contains {df_test[column].isna().sum()} missing values.')"
   ]
  },
  {
   "cell_type": "markdown",
   "id": "ae926fb8",
   "metadata": {
    "papermill": {
     "duration": 0.008489,
     "end_time": "2022-10-12T07:29:09.454813",
     "exception": false,
     "start_time": "2022-10-12T07:29:09.446324",
     "status": "completed"
    },
    "tags": []
   },
   "source": [
    "Test dataframe also contains:\n",
    "* 418 rows, 11 features.\n",
    "* 3 columns with missing values, such as *Age* (86), *Fare* (1) and *Cabin* (327).\n",
    "* 6 columns of integers or float type.\n",
    "* 5 columns of object (string) type."
   ]
  },
  {
   "cell_type": "markdown",
   "id": "83594636",
   "metadata": {
    "papermill": {
     "duration": 0.008444,
     "end_time": "2022-10-12T07:29:09.472076",
     "exception": false,
     "start_time": "2022-10-12T07:29:09.463632",
     "status": "completed"
    },
    "tags": []
   },
   "source": [
    "**Analysis of the train dataframe.**"
   ]
  },
  {
   "cell_type": "code",
   "execution_count": 5,
   "id": "134c8ec3",
   "metadata": {
    "execution": {
     "iopub.execute_input": "2022-10-12T07:29:09.493250Z",
     "iopub.status.busy": "2022-10-12T07:29:09.492170Z",
     "iopub.status.idle": "2022-10-12T07:29:09.528422Z",
     "shell.execute_reply": "2022-10-12T07:29:09.526688Z"
    },
    "papermill": {
     "duration": 0.050703,
     "end_time": "2022-10-12T07:29:09.531510",
     "exception": false,
     "start_time": "2022-10-12T07:29:09.480807",
     "status": "completed"
    },
    "tags": []
   },
   "outputs": [
    {
     "data": {
      "text/html": [
       "<div>\n",
       "<style scoped>\n",
       "    .dataframe tbody tr th:only-of-type {\n",
       "        vertical-align: middle;\n",
       "    }\n",
       "\n",
       "    .dataframe tbody tr th {\n",
       "        vertical-align: top;\n",
       "    }\n",
       "\n",
       "    .dataframe thead th {\n",
       "        text-align: right;\n",
       "    }\n",
       "</style>\n",
       "<table border=\"1\" class=\"dataframe\">\n",
       "  <thead>\n",
       "    <tr style=\"text-align: right;\">\n",
       "      <th></th>\n",
       "      <th>PassengerId</th>\n",
       "      <th>Survived</th>\n",
       "      <th>Pclass</th>\n",
       "      <th>Age</th>\n",
       "      <th>SibSp</th>\n",
       "      <th>Parch</th>\n",
       "      <th>Fare</th>\n",
       "    </tr>\n",
       "  </thead>\n",
       "  <tbody>\n",
       "    <tr>\n",
       "      <th>count</th>\n",
       "      <td>891.000000</td>\n",
       "      <td>891.000000</td>\n",
       "      <td>891.000000</td>\n",
       "      <td>714.000000</td>\n",
       "      <td>891.000000</td>\n",
       "      <td>891.000000</td>\n",
       "      <td>891.000000</td>\n",
       "    </tr>\n",
       "    <tr>\n",
       "      <th>mean</th>\n",
       "      <td>446.000000</td>\n",
       "      <td>0.383838</td>\n",
       "      <td>2.308642</td>\n",
       "      <td>29.699118</td>\n",
       "      <td>0.523008</td>\n",
       "      <td>0.381594</td>\n",
       "      <td>32.204208</td>\n",
       "    </tr>\n",
       "    <tr>\n",
       "      <th>std</th>\n",
       "      <td>257.353842</td>\n",
       "      <td>0.486592</td>\n",
       "      <td>0.836071</td>\n",
       "      <td>14.526497</td>\n",
       "      <td>1.102743</td>\n",
       "      <td>0.806057</td>\n",
       "      <td>49.693429</td>\n",
       "    </tr>\n",
       "    <tr>\n",
       "      <th>min</th>\n",
       "      <td>1.000000</td>\n",
       "      <td>0.000000</td>\n",
       "      <td>1.000000</td>\n",
       "      <td>0.420000</td>\n",
       "      <td>0.000000</td>\n",
       "      <td>0.000000</td>\n",
       "      <td>0.000000</td>\n",
       "    </tr>\n",
       "    <tr>\n",
       "      <th>25%</th>\n",
       "      <td>223.500000</td>\n",
       "      <td>0.000000</td>\n",
       "      <td>2.000000</td>\n",
       "      <td>20.125000</td>\n",
       "      <td>0.000000</td>\n",
       "      <td>0.000000</td>\n",
       "      <td>7.910400</td>\n",
       "    </tr>\n",
       "    <tr>\n",
       "      <th>50%</th>\n",
       "      <td>446.000000</td>\n",
       "      <td>0.000000</td>\n",
       "      <td>3.000000</td>\n",
       "      <td>28.000000</td>\n",
       "      <td>0.000000</td>\n",
       "      <td>0.000000</td>\n",
       "      <td>14.454200</td>\n",
       "    </tr>\n",
       "    <tr>\n",
       "      <th>75%</th>\n",
       "      <td>668.500000</td>\n",
       "      <td>1.000000</td>\n",
       "      <td>3.000000</td>\n",
       "      <td>38.000000</td>\n",
       "      <td>1.000000</td>\n",
       "      <td>0.000000</td>\n",
       "      <td>31.000000</td>\n",
       "    </tr>\n",
       "    <tr>\n",
       "      <th>max</th>\n",
       "      <td>891.000000</td>\n",
       "      <td>1.000000</td>\n",
       "      <td>3.000000</td>\n",
       "      <td>80.000000</td>\n",
       "      <td>8.000000</td>\n",
       "      <td>6.000000</td>\n",
       "      <td>512.329200</td>\n",
       "    </tr>\n",
       "  </tbody>\n",
       "</table>\n",
       "</div>"
      ],
      "text/plain": [
       "       PassengerId    Survived      Pclass         Age       SibSp  \\\n",
       "count   891.000000  891.000000  891.000000  714.000000  891.000000   \n",
       "mean    446.000000    0.383838    2.308642   29.699118    0.523008   \n",
       "std     257.353842    0.486592    0.836071   14.526497    1.102743   \n",
       "min       1.000000    0.000000    1.000000    0.420000    0.000000   \n",
       "25%     223.500000    0.000000    2.000000   20.125000    0.000000   \n",
       "50%     446.000000    0.000000    3.000000   28.000000    0.000000   \n",
       "75%     668.500000    1.000000    3.000000   38.000000    1.000000   \n",
       "max     891.000000    1.000000    3.000000   80.000000    8.000000   \n",
       "\n",
       "            Parch        Fare  \n",
       "count  891.000000  891.000000  \n",
       "mean     0.381594   32.204208  \n",
       "std      0.806057   49.693429  \n",
       "min      0.000000    0.000000  \n",
       "25%      0.000000    7.910400  \n",
       "50%      0.000000   14.454200  \n",
       "75%      0.000000   31.000000  \n",
       "max      6.000000  512.329200  "
      ]
     },
     "execution_count": 5,
     "metadata": {},
     "output_type": "execute_result"
    }
   ],
   "source": [
    "df_train.describe()"
   ]
  },
  {
   "cell_type": "code",
   "execution_count": 6,
   "id": "7162fb1d",
   "metadata": {
    "execution": {
     "iopub.execute_input": "2022-10-12T07:29:09.552238Z",
     "iopub.status.busy": "2022-10-12T07:29:09.551357Z",
     "iopub.status.idle": "2022-10-12T07:29:09.573907Z",
     "shell.execute_reply": "2022-10-12T07:29:09.572497Z"
    },
    "papermill": {
     "duration": 0.036218,
     "end_time": "2022-10-12T07:29:09.576969",
     "exception": false,
     "start_time": "2022-10-12T07:29:09.540751",
     "status": "completed"
    },
    "tags": []
   },
   "outputs": [
    {
     "data": {
      "text/html": [
       "<div>\n",
       "<style scoped>\n",
       "    .dataframe tbody tr th:only-of-type {\n",
       "        vertical-align: middle;\n",
       "    }\n",
       "\n",
       "    .dataframe tbody tr th {\n",
       "        vertical-align: top;\n",
       "    }\n",
       "\n",
       "    .dataframe thead th {\n",
       "        text-align: right;\n",
       "    }\n",
       "</style>\n",
       "<table border=\"1\" class=\"dataframe\">\n",
       "  <thead>\n",
       "    <tr style=\"text-align: right;\">\n",
       "      <th></th>\n",
       "      <th>Name</th>\n",
       "      <th>Sex</th>\n",
       "      <th>Ticket</th>\n",
       "      <th>Cabin</th>\n",
       "      <th>Embarked</th>\n",
       "    </tr>\n",
       "  </thead>\n",
       "  <tbody>\n",
       "    <tr>\n",
       "      <th>count</th>\n",
       "      <td>891</td>\n",
       "      <td>891</td>\n",
       "      <td>891</td>\n",
       "      <td>204</td>\n",
       "      <td>889</td>\n",
       "    </tr>\n",
       "    <tr>\n",
       "      <th>unique</th>\n",
       "      <td>891</td>\n",
       "      <td>2</td>\n",
       "      <td>681</td>\n",
       "      <td>147</td>\n",
       "      <td>3</td>\n",
       "    </tr>\n",
       "    <tr>\n",
       "      <th>top</th>\n",
       "      <td>Braund, Mr. Owen Harris</td>\n",
       "      <td>male</td>\n",
       "      <td>347082</td>\n",
       "      <td>B96 B98</td>\n",
       "      <td>S</td>\n",
       "    </tr>\n",
       "    <tr>\n",
       "      <th>freq</th>\n",
       "      <td>1</td>\n",
       "      <td>577</td>\n",
       "      <td>7</td>\n",
       "      <td>4</td>\n",
       "      <td>644</td>\n",
       "    </tr>\n",
       "  </tbody>\n",
       "</table>\n",
       "</div>"
      ],
      "text/plain": [
       "                           Name   Sex  Ticket    Cabin Embarked\n",
       "count                       891   891     891      204      889\n",
       "unique                      891     2     681      147        3\n",
       "top     Braund, Mr. Owen Harris  male  347082  B96 B98        S\n",
       "freq                          1   577       7        4      644"
      ]
     },
     "execution_count": 6,
     "metadata": {},
     "output_type": "execute_result"
    }
   ],
   "source": [
    "df_train.describe(include = ['O'])"
   ]
  },
  {
   "cell_type": "markdown",
   "id": "9f56202c",
   "metadata": {
    "papermill": {
     "duration": 0.009703,
     "end_time": "2022-10-12T07:29:09.600566",
     "exception": false,
     "start_time": "2022-10-12T07:29:09.590863",
     "status": "completed"
    },
    "tags": []
   },
   "source": [
    "**Analysis of the test dataframe.**"
   ]
  },
  {
   "cell_type": "code",
   "execution_count": 7,
   "id": "a0755619",
   "metadata": {
    "execution": {
     "iopub.execute_input": "2022-10-12T07:29:09.623973Z",
     "iopub.status.busy": "2022-10-12T07:29:09.623580Z",
     "iopub.status.idle": "2022-10-12T07:29:09.655285Z",
     "shell.execute_reply": "2022-10-12T07:29:09.654208Z"
    },
    "papermill": {
     "duration": 0.044823,
     "end_time": "2022-10-12T07:29:09.657704",
     "exception": false,
     "start_time": "2022-10-12T07:29:09.612881",
     "status": "completed"
    },
    "tags": []
   },
   "outputs": [
    {
     "data": {
      "text/html": [
       "<div>\n",
       "<style scoped>\n",
       "    .dataframe tbody tr th:only-of-type {\n",
       "        vertical-align: middle;\n",
       "    }\n",
       "\n",
       "    .dataframe tbody tr th {\n",
       "        vertical-align: top;\n",
       "    }\n",
       "\n",
       "    .dataframe thead th {\n",
       "        text-align: right;\n",
       "    }\n",
       "</style>\n",
       "<table border=\"1\" class=\"dataframe\">\n",
       "  <thead>\n",
       "    <tr style=\"text-align: right;\">\n",
       "      <th></th>\n",
       "      <th>PassengerId</th>\n",
       "      <th>Pclass</th>\n",
       "      <th>Age</th>\n",
       "      <th>SibSp</th>\n",
       "      <th>Parch</th>\n",
       "      <th>Fare</th>\n",
       "    </tr>\n",
       "  </thead>\n",
       "  <tbody>\n",
       "    <tr>\n",
       "      <th>count</th>\n",
       "      <td>418.000000</td>\n",
       "      <td>418.000000</td>\n",
       "      <td>332.000000</td>\n",
       "      <td>418.000000</td>\n",
       "      <td>418.000000</td>\n",
       "      <td>417.000000</td>\n",
       "    </tr>\n",
       "    <tr>\n",
       "      <th>mean</th>\n",
       "      <td>1100.500000</td>\n",
       "      <td>2.265550</td>\n",
       "      <td>30.272590</td>\n",
       "      <td>0.447368</td>\n",
       "      <td>0.392344</td>\n",
       "      <td>35.627188</td>\n",
       "    </tr>\n",
       "    <tr>\n",
       "      <th>std</th>\n",
       "      <td>120.810458</td>\n",
       "      <td>0.841838</td>\n",
       "      <td>14.181209</td>\n",
       "      <td>0.896760</td>\n",
       "      <td>0.981429</td>\n",
       "      <td>55.907576</td>\n",
       "    </tr>\n",
       "    <tr>\n",
       "      <th>min</th>\n",
       "      <td>892.000000</td>\n",
       "      <td>1.000000</td>\n",
       "      <td>0.170000</td>\n",
       "      <td>0.000000</td>\n",
       "      <td>0.000000</td>\n",
       "      <td>0.000000</td>\n",
       "    </tr>\n",
       "    <tr>\n",
       "      <th>25%</th>\n",
       "      <td>996.250000</td>\n",
       "      <td>1.000000</td>\n",
       "      <td>21.000000</td>\n",
       "      <td>0.000000</td>\n",
       "      <td>0.000000</td>\n",
       "      <td>7.895800</td>\n",
       "    </tr>\n",
       "    <tr>\n",
       "      <th>50%</th>\n",
       "      <td>1100.500000</td>\n",
       "      <td>3.000000</td>\n",
       "      <td>27.000000</td>\n",
       "      <td>0.000000</td>\n",
       "      <td>0.000000</td>\n",
       "      <td>14.454200</td>\n",
       "    </tr>\n",
       "    <tr>\n",
       "      <th>75%</th>\n",
       "      <td>1204.750000</td>\n",
       "      <td>3.000000</td>\n",
       "      <td>39.000000</td>\n",
       "      <td>1.000000</td>\n",
       "      <td>0.000000</td>\n",
       "      <td>31.500000</td>\n",
       "    </tr>\n",
       "    <tr>\n",
       "      <th>max</th>\n",
       "      <td>1309.000000</td>\n",
       "      <td>3.000000</td>\n",
       "      <td>76.000000</td>\n",
       "      <td>8.000000</td>\n",
       "      <td>9.000000</td>\n",
       "      <td>512.329200</td>\n",
       "    </tr>\n",
       "  </tbody>\n",
       "</table>\n",
       "</div>"
      ],
      "text/plain": [
       "       PassengerId      Pclass         Age       SibSp       Parch        Fare\n",
       "count   418.000000  418.000000  332.000000  418.000000  418.000000  417.000000\n",
       "mean   1100.500000    2.265550   30.272590    0.447368    0.392344   35.627188\n",
       "std     120.810458    0.841838   14.181209    0.896760    0.981429   55.907576\n",
       "min     892.000000    1.000000    0.170000    0.000000    0.000000    0.000000\n",
       "25%     996.250000    1.000000   21.000000    0.000000    0.000000    7.895800\n",
       "50%    1100.500000    3.000000   27.000000    0.000000    0.000000   14.454200\n",
       "75%    1204.750000    3.000000   39.000000    1.000000    0.000000   31.500000\n",
       "max    1309.000000    3.000000   76.000000    8.000000    9.000000  512.329200"
      ]
     },
     "execution_count": 7,
     "metadata": {},
     "output_type": "execute_result"
    }
   ],
   "source": [
    "df_test.describe()"
   ]
  },
  {
   "cell_type": "code",
   "execution_count": 8,
   "id": "894b67dc",
   "metadata": {
    "execution": {
     "iopub.execute_input": "2022-10-12T07:29:09.678497Z",
     "iopub.status.busy": "2022-10-12T07:29:09.678061Z",
     "iopub.status.idle": "2022-10-12T07:29:09.699512Z",
     "shell.execute_reply": "2022-10-12T07:29:09.698456Z"
    },
    "papermill": {
     "duration": 0.034376,
     "end_time": "2022-10-12T07:29:09.701903",
     "exception": false,
     "start_time": "2022-10-12T07:29:09.667527",
     "status": "completed"
    },
    "tags": []
   },
   "outputs": [
    {
     "data": {
      "text/html": [
       "<div>\n",
       "<style scoped>\n",
       "    .dataframe tbody tr th:only-of-type {\n",
       "        vertical-align: middle;\n",
       "    }\n",
       "\n",
       "    .dataframe tbody tr th {\n",
       "        vertical-align: top;\n",
       "    }\n",
       "\n",
       "    .dataframe thead th {\n",
       "        text-align: right;\n",
       "    }\n",
       "</style>\n",
       "<table border=\"1\" class=\"dataframe\">\n",
       "  <thead>\n",
       "    <tr style=\"text-align: right;\">\n",
       "      <th></th>\n",
       "      <th>Name</th>\n",
       "      <th>Sex</th>\n",
       "      <th>Ticket</th>\n",
       "      <th>Cabin</th>\n",
       "      <th>Embarked</th>\n",
       "    </tr>\n",
       "  </thead>\n",
       "  <tbody>\n",
       "    <tr>\n",
       "      <th>count</th>\n",
       "      <td>418</td>\n",
       "      <td>418</td>\n",
       "      <td>418</td>\n",
       "      <td>91</td>\n",
       "      <td>418</td>\n",
       "    </tr>\n",
       "    <tr>\n",
       "      <th>unique</th>\n",
       "      <td>418</td>\n",
       "      <td>2</td>\n",
       "      <td>363</td>\n",
       "      <td>76</td>\n",
       "      <td>3</td>\n",
       "    </tr>\n",
       "    <tr>\n",
       "      <th>top</th>\n",
       "      <td>Kelly, Mr. James</td>\n",
       "      <td>male</td>\n",
       "      <td>PC 17608</td>\n",
       "      <td>B57 B59 B63 B66</td>\n",
       "      <td>S</td>\n",
       "    </tr>\n",
       "    <tr>\n",
       "      <th>freq</th>\n",
       "      <td>1</td>\n",
       "      <td>266</td>\n",
       "      <td>5</td>\n",
       "      <td>3</td>\n",
       "      <td>270</td>\n",
       "    </tr>\n",
       "  </tbody>\n",
       "</table>\n",
       "</div>"
      ],
      "text/plain": [
       "                    Name   Sex    Ticket            Cabin Embarked\n",
       "count                418   418       418               91      418\n",
       "unique               418     2       363               76        3\n",
       "top     Kelly, Mr. James  male  PC 17608  B57 B59 B63 B66        S\n",
       "freq                   1   266         5                3      270"
      ]
     },
     "execution_count": 8,
     "metadata": {},
     "output_type": "execute_result"
    }
   ],
   "source": [
    "df_test.describe(include = ['O'])"
   ]
  },
  {
   "cell_type": "markdown",
   "id": "64b29e64",
   "metadata": {
    "papermill": {
     "duration": 0.009435,
     "end_time": "2022-10-12T07:29:09.721120",
     "exception": false,
     "start_time": "2022-10-12T07:29:09.711685",
     "status": "completed"
    },
    "tags": []
   },
   "source": [
    "# Filling the missing values.\n",
    "\n",
    "***Age* column.**\n",
    "\n",
    "Instead of filling the column with mean, median or any other value regarding the whole dataset, I will fill the missing values with median age for passenger class and sex."
   ]
  },
  {
   "cell_type": "code",
   "execution_count": 9,
   "id": "5047fb73",
   "metadata": {
    "execution": {
     "iopub.execute_input": "2022-10-12T07:29:09.742817Z",
     "iopub.status.busy": "2022-10-12T07:29:09.742080Z",
     "iopub.status.idle": "2022-10-12T07:29:09.759873Z",
     "shell.execute_reply": "2022-10-12T07:29:09.758944Z"
    },
    "papermill": {
     "duration": 0.031713,
     "end_time": "2022-10-12T07:29:09.762498",
     "exception": false,
     "start_time": "2022-10-12T07:29:09.730785",
     "status": "completed"
    },
    "tags": []
   },
   "outputs": [
    {
     "name": "stdout",
     "output_type": "stream",
     "text": [
      "Sex     Pclass\n",
      "female  1         36.0\n",
      "        2         28.0\n",
      "        3         22.0\n",
      "male    1         42.0\n",
      "        2         29.5\n",
      "        3         25.0\n",
      "Name: Age, dtype: float64\n"
     ]
    }
   ],
   "source": [
    "print(df_all.groupby(['Sex', 'Pclass'])['Age'].median())\n",
    "\n",
    "df_all['Age'] = df_all.groupby(['Sex', 'Pclass'])['Age'].apply(lambda x: x.fillna(value = x.median()))"
   ]
  },
  {
   "cell_type": "markdown",
   "id": "ecd8a0bb",
   "metadata": {
    "papermill": {
     "duration": 0.009512,
     "end_time": "2022-10-12T07:29:09.781988",
     "exception": false,
     "start_time": "2022-10-12T07:29:09.772476",
     "status": "completed"
    },
    "tags": []
   },
   "source": [
    "***Embarked* column.**\n",
    "\n",
    "Since there are only 2 missing values in the *Embarked* column, I will display them and try to look up for something interesting. As shown below, 2 rows with missing values have the same ticket, fare and cabin, I conclude that these 2 passengers was together and embarked from the same place. Let's just fill the missing values with the most frequent *Embarked* value, which is 'S'."
   ]
  },
  {
   "cell_type": "code",
   "execution_count": 10,
   "id": "50249ae4",
   "metadata": {
    "execution": {
     "iopub.execute_input": "2022-10-12T07:29:09.803284Z",
     "iopub.status.busy": "2022-10-12T07:29:09.802895Z",
     "iopub.status.idle": "2022-10-12T07:29:09.820143Z",
     "shell.execute_reply": "2022-10-12T07:29:09.818962Z"
    },
    "papermill": {
     "duration": 0.030868,
     "end_time": "2022-10-12T07:29:09.822636",
     "exception": false,
     "start_time": "2022-10-12T07:29:09.791768",
     "status": "completed"
    },
    "tags": []
   },
   "outputs": [
    {
     "data": {
      "text/html": [
       "<div>\n",
       "<style scoped>\n",
       "    .dataframe tbody tr th:only-of-type {\n",
       "        vertical-align: middle;\n",
       "    }\n",
       "\n",
       "    .dataframe tbody tr th {\n",
       "        vertical-align: top;\n",
       "    }\n",
       "\n",
       "    .dataframe thead th {\n",
       "        text-align: right;\n",
       "    }\n",
       "</style>\n",
       "<table border=\"1\" class=\"dataframe\">\n",
       "  <thead>\n",
       "    <tr style=\"text-align: right;\">\n",
       "      <th></th>\n",
       "      <th>PassengerId</th>\n",
       "      <th>Survived</th>\n",
       "      <th>Pclass</th>\n",
       "      <th>Name</th>\n",
       "      <th>Sex</th>\n",
       "      <th>Age</th>\n",
       "      <th>SibSp</th>\n",
       "      <th>Parch</th>\n",
       "      <th>Ticket</th>\n",
       "      <th>Fare</th>\n",
       "      <th>Cabin</th>\n",
       "      <th>Embarked</th>\n",
       "    </tr>\n",
       "  </thead>\n",
       "  <tbody>\n",
       "    <tr>\n",
       "      <th>61</th>\n",
       "      <td>62</td>\n",
       "      <td>1.0</td>\n",
       "      <td>1</td>\n",
       "      <td>Icard, Miss. Amelie</td>\n",
       "      <td>female</td>\n",
       "      <td>38.0</td>\n",
       "      <td>0</td>\n",
       "      <td>0</td>\n",
       "      <td>113572</td>\n",
       "      <td>80.0</td>\n",
       "      <td>B28</td>\n",
       "      <td>NaN</td>\n",
       "    </tr>\n",
       "    <tr>\n",
       "      <th>829</th>\n",
       "      <td>830</td>\n",
       "      <td>1.0</td>\n",
       "      <td>1</td>\n",
       "      <td>Stone, Mrs. George Nelson (Martha Evelyn)</td>\n",
       "      <td>female</td>\n",
       "      <td>62.0</td>\n",
       "      <td>0</td>\n",
       "      <td>0</td>\n",
       "      <td>113572</td>\n",
       "      <td>80.0</td>\n",
       "      <td>B28</td>\n",
       "      <td>NaN</td>\n",
       "    </tr>\n",
       "  </tbody>\n",
       "</table>\n",
       "</div>"
      ],
      "text/plain": [
       "     PassengerId  Survived  Pclass                                       Name  \\\n",
       "61            62       1.0       1                        Icard, Miss. Amelie   \n",
       "829          830       1.0       1  Stone, Mrs. George Nelson (Martha Evelyn)   \n",
       "\n",
       "        Sex   Age  SibSp  Parch  Ticket  Fare Cabin Embarked  \n",
       "61   female  38.0      0      0  113572  80.0   B28      NaN  \n",
       "829  female  62.0      0      0  113572  80.0   B28      NaN  "
      ]
     },
     "execution_count": 10,
     "metadata": {},
     "output_type": "execute_result"
    }
   ],
   "source": [
    "df_all[df_all['Embarked'].isna()]"
   ]
  },
  {
   "cell_type": "code",
   "execution_count": 11,
   "id": "ca9a925d",
   "metadata": {
    "execution": {
     "iopub.execute_input": "2022-10-12T07:29:09.844881Z",
     "iopub.status.busy": "2022-10-12T07:29:09.844214Z",
     "iopub.status.idle": "2022-10-12T07:29:09.850227Z",
     "shell.execute_reply": "2022-10-12T07:29:09.849450Z"
    },
    "papermill": {
     "duration": 0.0193,
     "end_time": "2022-10-12T07:29:09.852290",
     "exception": false,
     "start_time": "2022-10-12T07:29:09.832990",
     "status": "completed"
    },
    "tags": []
   },
   "outputs": [],
   "source": [
    "df_all['Embarked'] = df_all['Embarked'].fillna(value = 'S')"
   ]
  },
  {
   "cell_type": "markdown",
   "id": "233d7b4d",
   "metadata": {
    "papermill": {
     "duration": 0.009625,
     "end_time": "2022-10-12T07:29:09.871961",
     "exception": false,
     "start_time": "2022-10-12T07:29:09.862336",
     "status": "completed"
    },
    "tags": []
   },
   "source": [
    "***Fare* column.**\n",
    "\n",
    "Only 1044 passenger has a missing value in the *Fare* column. I will fill it with a median value for his passenger class."
   ]
  },
  {
   "cell_type": "code",
   "execution_count": 12,
   "id": "20f02bbd",
   "metadata": {
    "execution": {
     "iopub.execute_input": "2022-10-12T07:29:09.894448Z",
     "iopub.status.busy": "2022-10-12T07:29:09.893639Z",
     "iopub.status.idle": "2022-10-12T07:29:09.909681Z",
     "shell.execute_reply": "2022-10-12T07:29:09.908231Z"
    },
    "papermill": {
     "duration": 0.030578,
     "end_time": "2022-10-12T07:29:09.912530",
     "exception": false,
     "start_time": "2022-10-12T07:29:09.881952",
     "status": "completed"
    },
    "tags": []
   },
   "outputs": [
    {
     "data": {
      "text/html": [
       "<div>\n",
       "<style scoped>\n",
       "    .dataframe tbody tr th:only-of-type {\n",
       "        vertical-align: middle;\n",
       "    }\n",
       "\n",
       "    .dataframe tbody tr th {\n",
       "        vertical-align: top;\n",
       "    }\n",
       "\n",
       "    .dataframe thead th {\n",
       "        text-align: right;\n",
       "    }\n",
       "</style>\n",
       "<table border=\"1\" class=\"dataframe\">\n",
       "  <thead>\n",
       "    <tr style=\"text-align: right;\">\n",
       "      <th></th>\n",
       "      <th>PassengerId</th>\n",
       "      <th>Survived</th>\n",
       "      <th>Pclass</th>\n",
       "      <th>Name</th>\n",
       "      <th>Sex</th>\n",
       "      <th>Age</th>\n",
       "      <th>SibSp</th>\n",
       "      <th>Parch</th>\n",
       "      <th>Ticket</th>\n",
       "      <th>Fare</th>\n",
       "      <th>Cabin</th>\n",
       "      <th>Embarked</th>\n",
       "    </tr>\n",
       "  </thead>\n",
       "  <tbody>\n",
       "    <tr>\n",
       "      <th>1043</th>\n",
       "      <td>1044</td>\n",
       "      <td>NaN</td>\n",
       "      <td>3</td>\n",
       "      <td>Storey, Mr. Thomas</td>\n",
       "      <td>male</td>\n",
       "      <td>60.5</td>\n",
       "      <td>0</td>\n",
       "      <td>0</td>\n",
       "      <td>3701</td>\n",
       "      <td>NaN</td>\n",
       "      <td>NaN</td>\n",
       "      <td>S</td>\n",
       "    </tr>\n",
       "  </tbody>\n",
       "</table>\n",
       "</div>"
      ],
      "text/plain": [
       "      PassengerId  Survived  Pclass                Name   Sex   Age  SibSp  \\\n",
       "1043         1044       NaN       3  Storey, Mr. Thomas  male  60.5      0   \n",
       "\n",
       "      Parch Ticket  Fare Cabin Embarked  \n",
       "1043      0   3701   NaN   NaN        S  "
      ]
     },
     "execution_count": 12,
     "metadata": {},
     "output_type": "execute_result"
    }
   ],
   "source": [
    "df_all[df_all['Fare'].isna()]"
   ]
  },
  {
   "cell_type": "code",
   "execution_count": 13,
   "id": "e94bee9c",
   "metadata": {
    "execution": {
     "iopub.execute_input": "2022-10-12T07:29:09.940303Z",
     "iopub.status.busy": "2022-10-12T07:29:09.939719Z",
     "iopub.status.idle": "2022-10-12T07:29:09.954636Z",
     "shell.execute_reply": "2022-10-12T07:29:09.953471Z"
    },
    "papermill": {
     "duration": 0.034715,
     "end_time": "2022-10-12T07:29:09.957612",
     "exception": false,
     "start_time": "2022-10-12T07:29:09.922897",
     "status": "completed"
    },
    "tags": []
   },
   "outputs": [
    {
     "name": "stdout",
     "output_type": "stream",
     "text": [
      "Pclass\n",
      "1    60.0000\n",
      "2    15.0458\n",
      "3     8.0500\n",
      "Name: Fare, dtype: float64\n"
     ]
    }
   ],
   "source": [
    "print(df_all.groupby(['Pclass'])['Fare'].median())\n",
    "\n",
    "df_all['Fare'] = df_all.groupby(['Pclass'])['Fare'].apply(lambda x: x.fillna(value = x.median()))"
   ]
  },
  {
   "cell_type": "markdown",
   "id": "2978426d",
   "metadata": {
    "papermill": {
     "duration": 0.009829,
     "end_time": "2022-10-12T07:29:09.981363",
     "exception": false,
     "start_time": "2022-10-12T07:29:09.971534",
     "status": "completed"
    },
    "tags": []
   },
   "source": [
    "I will not fill the *Cabin* column, because it contains too many missing values."
   ]
  },
  {
   "cell_type": "markdown",
   "id": "1211c047",
   "metadata": {
    "papermill": {
     "duration": 0.009811,
     "end_time": "2022-10-12T07:29:10.001495",
     "exception": false,
     "start_time": "2022-10-12T07:29:09.991684",
     "status": "completed"
    },
    "tags": []
   },
   "source": [
    "# Feature engineering and data wrangling.\n",
    "\n",
    "First off, let's drop *Ticket* and *Cabin* columns. Then I will convert categorical values (*Sex* and *Embarked* columns) into a numerical values."
   ]
  },
  {
   "cell_type": "code",
   "execution_count": 14,
   "id": "672145c5",
   "metadata": {
    "execution": {
     "iopub.execute_input": "2022-10-12T07:29:10.026729Z",
     "iopub.status.busy": "2022-10-12T07:29:10.025872Z",
     "iopub.status.idle": "2022-10-12T07:29:10.047916Z",
     "shell.execute_reply": "2022-10-12T07:29:10.046798Z"
    },
    "papermill": {
     "duration": 0.03609,
     "end_time": "2022-10-12T07:29:10.050215",
     "exception": false,
     "start_time": "2022-10-12T07:29:10.014125",
     "status": "completed"
    },
    "tags": []
   },
   "outputs": [
    {
     "data": {
      "text/html": [
       "<div>\n",
       "<style scoped>\n",
       "    .dataframe tbody tr th:only-of-type {\n",
       "        vertical-align: middle;\n",
       "    }\n",
       "\n",
       "    .dataframe tbody tr th {\n",
       "        vertical-align: top;\n",
       "    }\n",
       "\n",
       "    .dataframe thead th {\n",
       "        text-align: right;\n",
       "    }\n",
       "</style>\n",
       "<table border=\"1\" class=\"dataframe\">\n",
       "  <thead>\n",
       "    <tr style=\"text-align: right;\">\n",
       "      <th></th>\n",
       "      <th>PassengerId</th>\n",
       "      <th>Survived</th>\n",
       "      <th>Pclass</th>\n",
       "      <th>Name</th>\n",
       "      <th>Sex</th>\n",
       "      <th>Age</th>\n",
       "      <th>SibSp</th>\n",
       "      <th>Parch</th>\n",
       "      <th>Fare</th>\n",
       "      <th>Embarked</th>\n",
       "    </tr>\n",
       "  </thead>\n",
       "  <tbody>\n",
       "    <tr>\n",
       "      <th>325</th>\n",
       "      <td>326</td>\n",
       "      <td>1.0</td>\n",
       "      <td>1</td>\n",
       "      <td>Young, Miss. Marie Grice</td>\n",
       "      <td>0</td>\n",
       "      <td>36.0</td>\n",
       "      <td>0</td>\n",
       "      <td>0</td>\n",
       "      <td>135.6333</td>\n",
       "      <td>0</td>\n",
       "    </tr>\n",
       "    <tr>\n",
       "      <th>569</th>\n",
       "      <td>570</td>\n",
       "      <td>1.0</td>\n",
       "      <td>3</td>\n",
       "      <td>Jonsson, Mr. Carl</td>\n",
       "      <td>1</td>\n",
       "      <td>32.0</td>\n",
       "      <td>0</td>\n",
       "      <td>0</td>\n",
       "      <td>7.8542</td>\n",
       "      <td>2</td>\n",
       "    </tr>\n",
       "    <tr>\n",
       "      <th>436</th>\n",
       "      <td>437</td>\n",
       "      <td>0.0</td>\n",
       "      <td>3</td>\n",
       "      <td>Ford, Miss. Doolina Margaret \"Daisy\"</td>\n",
       "      <td>0</td>\n",
       "      <td>21.0</td>\n",
       "      <td>2</td>\n",
       "      <td>2</td>\n",
       "      <td>34.3750</td>\n",
       "      <td>2</td>\n",
       "    </tr>\n",
       "    <tr>\n",
       "      <th>617</th>\n",
       "      <td>618</td>\n",
       "      <td>0.0</td>\n",
       "      <td>3</td>\n",
       "      <td>Lobb, Mrs. William Arthur (Cordelia K Stanlick)</td>\n",
       "      <td>0</td>\n",
       "      <td>26.0</td>\n",
       "      <td>1</td>\n",
       "      <td>0</td>\n",
       "      <td>16.1000</td>\n",
       "      <td>2</td>\n",
       "    </tr>\n",
       "    <tr>\n",
       "      <th>835</th>\n",
       "      <td>836</td>\n",
       "      <td>1.0</td>\n",
       "      <td>1</td>\n",
       "      <td>Compton, Miss. Sara Rebecca</td>\n",
       "      <td>0</td>\n",
       "      <td>39.0</td>\n",
       "      <td>1</td>\n",
       "      <td>1</td>\n",
       "      <td>83.1583</td>\n",
       "      <td>0</td>\n",
       "    </tr>\n",
       "  </tbody>\n",
       "</table>\n",
       "</div>"
      ],
      "text/plain": [
       "     PassengerId  Survived  Pclass  \\\n",
       "325          326       1.0       1   \n",
       "569          570       1.0       3   \n",
       "436          437       0.0       3   \n",
       "617          618       0.0       3   \n",
       "835          836       1.0       1   \n",
       "\n",
       "                                                Name  Sex   Age  SibSp  Parch  \\\n",
       "325                         Young, Miss. Marie Grice    0  36.0      0      0   \n",
       "569                                Jonsson, Mr. Carl    1  32.0      0      0   \n",
       "436             Ford, Miss. Doolina Margaret \"Daisy\"    0  21.0      2      2   \n",
       "617  Lobb, Mrs. William Arthur (Cordelia K Stanlick)    0  26.0      1      0   \n",
       "835                      Compton, Miss. Sara Rebecca    0  39.0      1      1   \n",
       "\n",
       "         Fare  Embarked  \n",
       "325  135.6333         0  \n",
       "569    7.8542         2  \n",
       "436   34.3750         2  \n",
       "617   16.1000         2  \n",
       "835   83.1583         0  "
      ]
     },
     "execution_count": 14,
     "metadata": {},
     "output_type": "execute_result"
    }
   ],
   "source": [
    "df_all = df_all.drop(['Ticket', 'Cabin'], axis = 1)\n",
    "\n",
    "df_all['Sex'] = df_all['Sex'].map({'male': 1, 'female': 0})\n",
    "df_all['Embarked'] = df_all['Embarked'].map({'C': 0, \"Q\": 1, 'S': 2})\n",
    "\n",
    "df_all.sample(5)"
   ]
  },
  {
   "cell_type": "markdown",
   "id": "085866f2",
   "metadata": {
    "papermill": {
     "duration": 0.010005,
     "end_time": "2022-10-12T07:29:10.070571",
     "exception": false,
     "start_time": "2022-10-12T07:29:10.060566",
     "status": "completed"
    },
    "tags": []
   },
   "source": [
    "Secondly, let's extract titles from the *Name* column and convert them into numerical values."
   ]
  },
  {
   "cell_type": "code",
   "execution_count": 15,
   "id": "a0eb33e1",
   "metadata": {
    "execution": {
     "iopub.execute_input": "2022-10-12T07:29:10.094468Z",
     "iopub.status.busy": "2022-10-12T07:29:10.094015Z",
     "iopub.status.idle": "2022-10-12T07:29:10.130771Z",
     "shell.execute_reply": "2022-10-12T07:29:10.129084Z"
    },
    "papermill": {
     "duration": 0.052752,
     "end_time": "2022-10-12T07:29:10.133611",
     "exception": false,
     "start_time": "2022-10-12T07:29:10.080859",
     "status": "completed"
    },
    "tags": []
   },
   "outputs": [
    {
     "name": "stdout",
     "output_type": "stream",
     "text": [
      "Title\n",
      "Sir         1.000000\n",
      "Countess    1.000000\n",
      "Ms          1.000000\n",
      "Mme         1.000000\n",
      "Lady        1.000000\n",
      "Mlle        1.000000\n",
      "Mrs         0.792000\n",
      "Miss        0.697802\n",
      "Master      0.575000\n",
      "Col         0.500000\n",
      "Major       0.500000\n",
      "Dr          0.428571\n",
      "Mr          0.156673\n",
      "Jonkheer    0.000000\n",
      "Don         0.000000\n",
      "Rev         0.000000\n",
      "Capt        0.000000\n",
      "Dona             NaN\n",
      "Name: Survived, dtype: float64 \n",
      "\n",
      "Title\n",
      "0    0.793651\n",
      "1    0.702703\n",
      "2    0.575000\n",
      "3    0.347826\n",
      "4    0.156673\n",
      "Name: Survived, dtype: float64 \n",
      "\n"
     ]
    },
    {
     "data": {
      "text/html": [
       "<div>\n",
       "<style scoped>\n",
       "    .dataframe tbody tr th:only-of-type {\n",
       "        vertical-align: middle;\n",
       "    }\n",
       "\n",
       "    .dataframe tbody tr th {\n",
       "        vertical-align: top;\n",
       "    }\n",
       "\n",
       "    .dataframe thead th {\n",
       "        text-align: right;\n",
       "    }\n",
       "</style>\n",
       "<table border=\"1\" class=\"dataframe\">\n",
       "  <thead>\n",
       "    <tr style=\"text-align: right;\">\n",
       "      <th></th>\n",
       "      <th>PassengerId</th>\n",
       "      <th>Survived</th>\n",
       "      <th>Pclass</th>\n",
       "      <th>Sex</th>\n",
       "      <th>Age</th>\n",
       "      <th>SibSp</th>\n",
       "      <th>Parch</th>\n",
       "      <th>Fare</th>\n",
       "      <th>Embarked</th>\n",
       "      <th>Title</th>\n",
       "    </tr>\n",
       "  </thead>\n",
       "  <tbody>\n",
       "    <tr>\n",
       "      <th>1152</th>\n",
       "      <td>1153</td>\n",
       "      <td>NaN</td>\n",
       "      <td>3</td>\n",
       "      <td>1</td>\n",
       "      <td>21.0</td>\n",
       "      <td>0</td>\n",
       "      <td>0</td>\n",
       "      <td>7.8542</td>\n",
       "      <td>2</td>\n",
       "      <td>4</td>\n",
       "    </tr>\n",
       "    <tr>\n",
       "      <th>372</th>\n",
       "      <td>373</td>\n",
       "      <td>0.0</td>\n",
       "      <td>3</td>\n",
       "      <td>1</td>\n",
       "      <td>19.0</td>\n",
       "      <td>0</td>\n",
       "      <td>0</td>\n",
       "      <td>8.0500</td>\n",
       "      <td>2</td>\n",
       "      <td>4</td>\n",
       "    </tr>\n",
       "    <tr>\n",
       "      <th>391</th>\n",
       "      <td>392</td>\n",
       "      <td>1.0</td>\n",
       "      <td>3</td>\n",
       "      <td>1</td>\n",
       "      <td>21.0</td>\n",
       "      <td>0</td>\n",
       "      <td>0</td>\n",
       "      <td>7.7958</td>\n",
       "      <td>2</td>\n",
       "      <td>4</td>\n",
       "    </tr>\n",
       "    <tr>\n",
       "      <th>759</th>\n",
       "      <td>760</td>\n",
       "      <td>1.0</td>\n",
       "      <td>1</td>\n",
       "      <td>0</td>\n",
       "      <td>33.0</td>\n",
       "      <td>0</td>\n",
       "      <td>0</td>\n",
       "      <td>86.5000</td>\n",
       "      <td>2</td>\n",
       "      <td>3</td>\n",
       "    </tr>\n",
       "    <tr>\n",
       "      <th>766</th>\n",
       "      <td>767</td>\n",
       "      <td>0.0</td>\n",
       "      <td>1</td>\n",
       "      <td>1</td>\n",
       "      <td>42.0</td>\n",
       "      <td>0</td>\n",
       "      <td>0</td>\n",
       "      <td>39.6000</td>\n",
       "      <td>0</td>\n",
       "      <td>3</td>\n",
       "    </tr>\n",
       "  </tbody>\n",
       "</table>\n",
       "</div>"
      ],
      "text/plain": [
       "      PassengerId  Survived  Pclass  Sex   Age  SibSp  Parch     Fare  \\\n",
       "1152         1153       NaN       3    1  21.0      0      0   7.8542   \n",
       "372           373       0.0       3    1  19.0      0      0   8.0500   \n",
       "391           392       1.0       3    1  21.0      0      0   7.7958   \n",
       "759           760       1.0       1    0  33.0      0      0  86.5000   \n",
       "766           767       0.0       1    1  42.0      0      0  39.6000   \n",
       "\n",
       "      Embarked  Title  \n",
       "1152         2      4  \n",
       "372          2      4  \n",
       "391          2      4  \n",
       "759          2      3  \n",
       "766          0      3  "
      ]
     },
     "execution_count": 15,
     "metadata": {},
     "output_type": "execute_result"
    }
   ],
   "source": [
    "#Extracting the titles.\n",
    "df_all['Title'] = df_all.Name.str.extract(' ([A-Za-z]+)\\.', expand = False)\n",
    "\n",
    "print(df_all.groupby(['Title'])['Survived'].mean().sort_values(ascending = False), '\\n')\n",
    "\n",
    "#Replacing odd titles with more usual titles.\n",
    "df_all['Title'] = df_all['Title'].replace(['Lady', 'Countess','Capt', 'Col','Don', 'Dr', 'Major', 'Rev', 'Sir', 'Jonkheer', 'Dona'], 'Rare titles')\n",
    "df_all['Title'] = df_all['Title'].replace('Mlle', 'Miss')\n",
    "df_all['Title'] = df_all['Title'].replace('Ms', 'Miss')\n",
    "df_all['Title'] = df_all['Title'].replace('Mme', 'Mrs')\n",
    "\n",
    "df_all['Title'] = df_all['Title'].map({'Mrs': 0, 'Miss': 1, 'Master': 2, 'Rare titles': 3, 'Mr': 4})\n",
    "\n",
    "print(df_all.groupby(['Title'])['Survived'].mean().sort_values(ascending = False), '\\n')\n",
    "\n",
    "df_all = df_all.drop(['Name'], axis = 1)\n",
    "\n",
    "df_all.sample(5)"
   ]
  },
  {
   "cell_type": "markdown",
   "id": "8026fc48",
   "metadata": {
    "papermill": {
     "duration": 0.010599,
     "end_time": "2022-10-12T07:29:10.155110",
     "exception": false,
     "start_time": "2022-10-12T07:29:10.144511",
     "status": "completed"
    },
    "tags": []
   },
   "source": [
    "Thirdly, let's redefine ages as age intervals."
   ]
  },
  {
   "cell_type": "code",
   "execution_count": 16,
   "id": "c3ff5802",
   "metadata": {
    "execution": {
     "iopub.execute_input": "2022-10-12T07:29:10.179358Z",
     "iopub.status.busy": "2022-10-12T07:29:10.178926Z",
     "iopub.status.idle": "2022-10-12T07:29:10.221443Z",
     "shell.execute_reply": "2022-10-12T07:29:10.220104Z"
    },
    "papermill": {
     "duration": 0.057622,
     "end_time": "2022-10-12T07:29:10.224273",
     "exception": false,
     "start_time": "2022-10-12T07:29:10.166651",
     "status": "completed"
    },
    "tags": []
   },
   "outputs": [
    {
     "name": "stdout",
     "output_type": "stream",
     "text": [
      "Age intervals\n",
      "(0.0902, 20.128]    0.458101\n",
      "(20.128, 40.085]    0.369686\n",
      "(40.085, 60.043]    0.369128\n",
      "(60.043, 80.0]      0.227273\n",
      "Name: Survived, dtype: float64 \n",
      "\n"
     ]
    },
    {
     "data": {
      "text/html": [
       "<div>\n",
       "<style scoped>\n",
       "    .dataframe tbody tr th:only-of-type {\n",
       "        vertical-align: middle;\n",
       "    }\n",
       "\n",
       "    .dataframe tbody tr th {\n",
       "        vertical-align: top;\n",
       "    }\n",
       "\n",
       "    .dataframe thead th {\n",
       "        text-align: right;\n",
       "    }\n",
       "</style>\n",
       "<table border=\"1\" class=\"dataframe\">\n",
       "  <thead>\n",
       "    <tr style=\"text-align: right;\">\n",
       "      <th></th>\n",
       "      <th>PassengerId</th>\n",
       "      <th>Survived</th>\n",
       "      <th>Pclass</th>\n",
       "      <th>Sex</th>\n",
       "      <th>Age</th>\n",
       "      <th>SibSp</th>\n",
       "      <th>Parch</th>\n",
       "      <th>Fare</th>\n",
       "      <th>Embarked</th>\n",
       "      <th>Title</th>\n",
       "    </tr>\n",
       "  </thead>\n",
       "  <tbody>\n",
       "    <tr>\n",
       "      <th>741</th>\n",
       "      <td>742</td>\n",
       "      <td>0.0</td>\n",
       "      <td>1</td>\n",
       "      <td>1</td>\n",
       "      <td>2.0</td>\n",
       "      <td>1</td>\n",
       "      <td>0</td>\n",
       "      <td>78.8500</td>\n",
       "      <td>2</td>\n",
       "      <td>4</td>\n",
       "    </tr>\n",
       "    <tr>\n",
       "      <th>575</th>\n",
       "      <td>576</td>\n",
       "      <td>0.0</td>\n",
       "      <td>3</td>\n",
       "      <td>1</td>\n",
       "      <td>1.0</td>\n",
       "      <td>0</td>\n",
       "      <td>0</td>\n",
       "      <td>14.5000</td>\n",
       "      <td>2</td>\n",
       "      <td>4</td>\n",
       "    </tr>\n",
       "    <tr>\n",
       "      <th>681</th>\n",
       "      <td>682</td>\n",
       "      <td>1.0</td>\n",
       "      <td>1</td>\n",
       "      <td>1</td>\n",
       "      <td>1.0</td>\n",
       "      <td>0</td>\n",
       "      <td>0</td>\n",
       "      <td>76.7292</td>\n",
       "      <td>0</td>\n",
       "      <td>4</td>\n",
       "    </tr>\n",
       "    <tr>\n",
       "      <th>405</th>\n",
       "      <td>406</td>\n",
       "      <td>0.0</td>\n",
       "      <td>2</td>\n",
       "      <td>1</td>\n",
       "      <td>2.0</td>\n",
       "      <td>1</td>\n",
       "      <td>0</td>\n",
       "      <td>21.0000</td>\n",
       "      <td>2</td>\n",
       "      <td>4</td>\n",
       "    </tr>\n",
       "    <tr>\n",
       "      <th>479</th>\n",
       "      <td>480</td>\n",
       "      <td>1.0</td>\n",
       "      <td>3</td>\n",
       "      <td>0</td>\n",
       "      <td>0.0</td>\n",
       "      <td>0</td>\n",
       "      <td>1</td>\n",
       "      <td>12.2875</td>\n",
       "      <td>2</td>\n",
       "      <td>1</td>\n",
       "    </tr>\n",
       "  </tbody>\n",
       "</table>\n",
       "</div>"
      ],
      "text/plain": [
       "     PassengerId  Survived  Pclass  Sex  Age  SibSp  Parch     Fare  Embarked  \\\n",
       "741          742       0.0       1    1  2.0      1      0  78.8500         2   \n",
       "575          576       0.0       3    1  1.0      0      0  14.5000         2   \n",
       "681          682       1.0       1    1  1.0      0      0  76.7292         0   \n",
       "405          406       0.0       2    1  2.0      1      0  21.0000         2   \n",
       "479          480       1.0       3    0  0.0      0      1  12.2875         2   \n",
       "\n",
       "     Title  \n",
       "741      4  \n",
       "575      4  \n",
       "681      4  \n",
       "405      4  \n",
       "479      1  "
      ]
     },
     "execution_count": 16,
     "metadata": {},
     "output_type": "execute_result"
    }
   ],
   "source": [
    "df_all['Age intervals'] = pd.cut(df_all['Age'], 4)\n",
    "\n",
    "print(df_all.groupby(['Age intervals'])['Survived'].mean().sort_values(ascending = False), '\\n')\n",
    "\n",
    "df_all.loc[df_all['Age'] <= 16, 'Age'] = 0\n",
    "df_all.loc[(df_all['Age'] > 16) & (df_all['Age'] <= 32), 'Age'] = 1\n",
    "df_all.loc[(df_all['Age'] > 32) & (df_all['Age'] <= 48), 'Age'] = 2\n",
    "df_all.loc[(df_all['Age'] > 48) & (df_all['Age'] <= 64), 'Age'] = 3\n",
    "df_all.loc[df_all['Age'] > 64, 'Age'] = 4\n",
    "\n",
    "df_all = df_all.drop(['Age intervals'], axis = 1)\n",
    "\n",
    "df_all.sample(5)"
   ]
  },
  {
   "cell_type": "markdown",
   "id": "e89f4c81",
   "metadata": {
    "papermill": {
     "duration": 0.01069,
     "end_time": "2022-10-12T07:29:10.246237",
     "exception": false,
     "start_time": "2022-10-12T07:29:10.235547",
     "status": "completed"
    },
    "tags": []
   },
   "source": [
    "Now, let's create a new column *Family* which contains the sum of *SibSp* and *Parch* columns."
   ]
  },
  {
   "cell_type": "code",
   "execution_count": 17,
   "id": "95ec9a6f",
   "metadata": {
    "execution": {
     "iopub.execute_input": "2022-10-12T07:29:10.270319Z",
     "iopub.status.busy": "2022-10-12T07:29:10.269927Z",
     "iopub.status.idle": "2022-10-12T07:29:10.292211Z",
     "shell.execute_reply": "2022-10-12T07:29:10.290625Z"
    },
    "papermill": {
     "duration": 0.037489,
     "end_time": "2022-10-12T07:29:10.294850",
     "exception": false,
     "start_time": "2022-10-12T07:29:10.257361",
     "status": "completed"
    },
    "tags": []
   },
   "outputs": [
    {
     "name": "stdout",
     "output_type": "stream",
     "text": [
      "Family\n",
      "3     0.724138\n",
      "2     0.578431\n",
      "1     0.552795\n",
      "6     0.333333\n",
      "0     0.303538\n",
      "4     0.200000\n",
      "5     0.136364\n",
      "7     0.000000\n",
      "10    0.000000\n",
      "Name: Survived, dtype: float64 \n",
      "\n"
     ]
    },
    {
     "data": {
      "text/html": [
       "<div>\n",
       "<style scoped>\n",
       "    .dataframe tbody tr th:only-of-type {\n",
       "        vertical-align: middle;\n",
       "    }\n",
       "\n",
       "    .dataframe tbody tr th {\n",
       "        vertical-align: top;\n",
       "    }\n",
       "\n",
       "    .dataframe thead th {\n",
       "        text-align: right;\n",
       "    }\n",
       "</style>\n",
       "<table border=\"1\" class=\"dataframe\">\n",
       "  <thead>\n",
       "    <tr style=\"text-align: right;\">\n",
       "      <th></th>\n",
       "      <th>PassengerId</th>\n",
       "      <th>Survived</th>\n",
       "      <th>Pclass</th>\n",
       "      <th>Sex</th>\n",
       "      <th>Age</th>\n",
       "      <th>Fare</th>\n",
       "      <th>Embarked</th>\n",
       "      <th>Title</th>\n",
       "      <th>Family</th>\n",
       "    </tr>\n",
       "  </thead>\n",
       "  <tbody>\n",
       "    <tr>\n",
       "      <th>1110</th>\n",
       "      <td>1111</td>\n",
       "      <td>NaN</td>\n",
       "      <td>3</td>\n",
       "      <td>1</td>\n",
       "      <td>1.0</td>\n",
       "      <td>8.0500</td>\n",
       "      <td>2</td>\n",
       "      <td>4</td>\n",
       "      <td>0</td>\n",
       "    </tr>\n",
       "    <tr>\n",
       "      <th>453</th>\n",
       "      <td>454</td>\n",
       "      <td>1.0</td>\n",
       "      <td>1</td>\n",
       "      <td>1</td>\n",
       "      <td>3.0</td>\n",
       "      <td>89.1042</td>\n",
       "      <td>0</td>\n",
       "      <td>4</td>\n",
       "      <td>1</td>\n",
       "    </tr>\n",
       "    <tr>\n",
       "      <th>878</th>\n",
       "      <td>879</td>\n",
       "      <td>0.0</td>\n",
       "      <td>3</td>\n",
       "      <td>1</td>\n",
       "      <td>1.0</td>\n",
       "      <td>7.8958</td>\n",
       "      <td>2</td>\n",
       "      <td>4</td>\n",
       "      <td>0</td>\n",
       "    </tr>\n",
       "    <tr>\n",
       "      <th>1019</th>\n",
       "      <td>1020</td>\n",
       "      <td>NaN</td>\n",
       "      <td>2</td>\n",
       "      <td>1</td>\n",
       "      <td>2.0</td>\n",
       "      <td>13.0000</td>\n",
       "      <td>2</td>\n",
       "      <td>4</td>\n",
       "      <td>0</td>\n",
       "    </tr>\n",
       "    <tr>\n",
       "      <th>60</th>\n",
       "      <td>61</td>\n",
       "      <td>0.0</td>\n",
       "      <td>3</td>\n",
       "      <td>1</td>\n",
       "      <td>1.0</td>\n",
       "      <td>7.2292</td>\n",
       "      <td>0</td>\n",
       "      <td>4</td>\n",
       "      <td>0</td>\n",
       "    </tr>\n",
       "  </tbody>\n",
       "</table>\n",
       "</div>"
      ],
      "text/plain": [
       "      PassengerId  Survived  Pclass  Sex  Age     Fare  Embarked  Title  \\\n",
       "1110         1111       NaN       3    1  1.0   8.0500         2      4   \n",
       "453           454       1.0       1    1  3.0  89.1042         0      4   \n",
       "878           879       0.0       3    1  1.0   7.8958         2      4   \n",
       "1019         1020       NaN       2    1  2.0  13.0000         2      4   \n",
       "60             61       0.0       3    1  1.0   7.2292         0      4   \n",
       "\n",
       "      Family  \n",
       "1110       0  \n",
       "453        1  \n",
       "878        0  \n",
       "1019       0  \n",
       "60         0  "
      ]
     },
     "execution_count": 17,
     "metadata": {},
     "output_type": "execute_result"
    }
   ],
   "source": [
    "df_all['Family'] = df_all['SibSp'] + df_all['Parch']\n",
    "\n",
    "df_all = df_all.drop(['SibSp', 'Parch'], axis = 1)\n",
    "\n",
    "print(df_all.groupby(['Family'])['Survived'].mean().sort_values(ascending = False), '\\n')\n",
    "\n",
    "df_all.sample(5)"
   ]
  },
  {
   "cell_type": "markdown",
   "id": "36d07464",
   "metadata": {
    "papermill": {
     "duration": 0.010836,
     "end_time": "2022-10-12T07:29:10.317156",
     "exception": false,
     "start_time": "2022-10-12T07:29:10.306320",
     "status": "completed"
    },
    "tags": []
   },
   "source": [
    "Lastly, let's replace the *Fare* column values with categorical values."
   ]
  },
  {
   "cell_type": "code",
   "execution_count": 18,
   "id": "8afb0989",
   "metadata": {
    "execution": {
     "iopub.execute_input": "2022-10-12T07:29:10.342025Z",
     "iopub.status.busy": "2022-10-12T07:29:10.341394Z",
     "iopub.status.idle": "2022-10-12T07:29:10.359476Z",
     "shell.execute_reply": "2022-10-12T07:29:10.357618Z"
    },
    "papermill": {
     "duration": 0.033879,
     "end_time": "2022-10-12T07:29:10.362232",
     "exception": false,
     "start_time": "2022-10-12T07:29:10.328353",
     "status": "completed"
    },
    "tags": []
   },
   "outputs": [
    {
     "name": "stdout",
     "output_type": "stream",
     "text": [
      "Fare intervals\n",
      "(41.579, 512.329]    0.645349\n",
      "(21.558, 41.579]     0.443243\n",
      "(10.5, 21.558]       0.426901\n",
      "(-0.001, 7.854]      0.217877\n",
      "(7.854, 10.5]        0.201087\n",
      "Name: Survived, dtype: float64 \n",
      "\n"
     ]
    }
   ],
   "source": [
    "df_all['Fare intervals'] = pd.qcut(df_all['Fare'], 5)\n",
    "\n",
    "print(df_all.groupby(['Fare intervals'])['Survived'].mean().sort_values(ascending = False), '\\n')\n",
    "\n",
    "df_all.loc[df_all['Fare'] <= 7, 'Fare'] = 0\n",
    "df_all.loc[(df_all['Fare'] > 7) & (df_all['Fare'] <= 14), 'Fare'] = 1\n",
    "df_all.loc[(df_all['Fare'] > 14) & (df_all['Fare'] <= 31), 'Fare'] = 2\n",
    "df_all.loc[df_all['Fare'] > 31, 'Fare'] = 3\n",
    "\n",
    "df_all = df_all.drop(['Fare intervals'], axis = 1)"
   ]
  },
  {
   "cell_type": "markdown",
   "id": "60813742",
   "metadata": {
    "papermill": {
     "duration": 0.011143,
     "end_time": "2022-10-12T07:29:10.385022",
     "exception": false,
     "start_time": "2022-10-12T07:29:10.373879",
     "status": "completed"
    },
    "tags": []
   },
   "source": [
    "Let's look at the dataframe we have created."
   ]
  },
  {
   "cell_type": "code",
   "execution_count": 19,
   "id": "c937a627",
   "metadata": {
    "execution": {
     "iopub.execute_input": "2022-10-12T07:29:10.409583Z",
     "iopub.status.busy": "2022-10-12T07:29:10.409107Z",
     "iopub.status.idle": "2022-10-12T07:29:10.427237Z",
     "shell.execute_reply": "2022-10-12T07:29:10.426217Z"
    },
    "papermill": {
     "duration": 0.032876,
     "end_time": "2022-10-12T07:29:10.429441",
     "exception": false,
     "start_time": "2022-10-12T07:29:10.396565",
     "status": "completed"
    },
    "tags": []
   },
   "outputs": [
    {
     "data": {
      "text/html": [
       "<div>\n",
       "<style scoped>\n",
       "    .dataframe tbody tr th:only-of-type {\n",
       "        vertical-align: middle;\n",
       "    }\n",
       "\n",
       "    .dataframe tbody tr th {\n",
       "        vertical-align: top;\n",
       "    }\n",
       "\n",
       "    .dataframe thead th {\n",
       "        text-align: right;\n",
       "    }\n",
       "</style>\n",
       "<table border=\"1\" class=\"dataframe\">\n",
       "  <thead>\n",
       "    <tr style=\"text-align: right;\">\n",
       "      <th></th>\n",
       "      <th>PassengerId</th>\n",
       "      <th>Survived</th>\n",
       "      <th>Pclass</th>\n",
       "      <th>Sex</th>\n",
       "      <th>Age</th>\n",
       "      <th>Fare</th>\n",
       "      <th>Embarked</th>\n",
       "      <th>Title</th>\n",
       "      <th>Family</th>\n",
       "    </tr>\n",
       "  </thead>\n",
       "  <tbody>\n",
       "    <tr>\n",
       "      <th>9</th>\n",
       "      <td>10</td>\n",
       "      <td>1.0</td>\n",
       "      <td>2</td>\n",
       "      <td>0</td>\n",
       "      <td>0.0</td>\n",
       "      <td>2.0</td>\n",
       "      <td>0</td>\n",
       "      <td>0</td>\n",
       "      <td>1</td>\n",
       "    </tr>\n",
       "    <tr>\n",
       "      <th>1255</th>\n",
       "      <td>1256</td>\n",
       "      <td>NaN</td>\n",
       "      <td>1</td>\n",
       "      <td>0</td>\n",
       "      <td>1.0</td>\n",
       "      <td>3.0</td>\n",
       "      <td>0</td>\n",
       "      <td>0</td>\n",
       "      <td>1</td>\n",
       "    </tr>\n",
       "    <tr>\n",
       "      <th>526</th>\n",
       "      <td>527</td>\n",
       "      <td>1.0</td>\n",
       "      <td>2</td>\n",
       "      <td>0</td>\n",
       "      <td>3.0</td>\n",
       "      <td>1.0</td>\n",
       "      <td>2</td>\n",
       "      <td>1</td>\n",
       "      <td>0</td>\n",
       "    </tr>\n",
       "    <tr>\n",
       "      <th>725</th>\n",
       "      <td>726</td>\n",
       "      <td>0.0</td>\n",
       "      <td>3</td>\n",
       "      <td>1</td>\n",
       "      <td>1.0</td>\n",
       "      <td>1.0</td>\n",
       "      <td>2</td>\n",
       "      <td>4</td>\n",
       "      <td>0</td>\n",
       "    </tr>\n",
       "    <tr>\n",
       "      <th>1049</th>\n",
       "      <td>1050</td>\n",
       "      <td>NaN</td>\n",
       "      <td>1</td>\n",
       "      <td>1</td>\n",
       "      <td>2.0</td>\n",
       "      <td>2.0</td>\n",
       "      <td>2</td>\n",
       "      <td>4</td>\n",
       "      <td>0</td>\n",
       "    </tr>\n",
       "    <tr>\n",
       "      <th>116</th>\n",
       "      <td>117</td>\n",
       "      <td>0.0</td>\n",
       "      <td>3</td>\n",
       "      <td>1</td>\n",
       "      <td>4.0</td>\n",
       "      <td>1.0</td>\n",
       "      <td>1</td>\n",
       "      <td>4</td>\n",
       "      <td>0</td>\n",
       "    </tr>\n",
       "    <tr>\n",
       "      <th>296</th>\n",
       "      <td>297</td>\n",
       "      <td>0.0</td>\n",
       "      <td>3</td>\n",
       "      <td>1</td>\n",
       "      <td>1.0</td>\n",
       "      <td>1.0</td>\n",
       "      <td>0</td>\n",
       "      <td>4</td>\n",
       "      <td>0</td>\n",
       "    </tr>\n",
       "    <tr>\n",
       "      <th>970</th>\n",
       "      <td>971</td>\n",
       "      <td>NaN</td>\n",
       "      <td>3</td>\n",
       "      <td>0</td>\n",
       "      <td>1.0</td>\n",
       "      <td>1.0</td>\n",
       "      <td>1</td>\n",
       "      <td>1</td>\n",
       "      <td>0</td>\n",
       "    </tr>\n",
       "    <tr>\n",
       "      <th>1184</th>\n",
       "      <td>1185</td>\n",
       "      <td>NaN</td>\n",
       "      <td>1</td>\n",
       "      <td>1</td>\n",
       "      <td>3.0</td>\n",
       "      <td>3.0</td>\n",
       "      <td>2</td>\n",
       "      <td>3</td>\n",
       "      <td>2</td>\n",
       "    </tr>\n",
       "    <tr>\n",
       "      <th>1004</th>\n",
       "      <td>1005</td>\n",
       "      <td>NaN</td>\n",
       "      <td>3</td>\n",
       "      <td>0</td>\n",
       "      <td>1.0</td>\n",
       "      <td>1.0</td>\n",
       "      <td>1</td>\n",
       "      <td>1</td>\n",
       "      <td>0</td>\n",
       "    </tr>\n",
       "  </tbody>\n",
       "</table>\n",
       "</div>"
      ],
      "text/plain": [
       "      PassengerId  Survived  Pclass  Sex  Age  Fare  Embarked  Title  Family\n",
       "9              10       1.0       2    0  0.0   2.0         0      0       1\n",
       "1255         1256       NaN       1    0  1.0   3.0         0      0       1\n",
       "526           527       1.0       2    0  3.0   1.0         2      1       0\n",
       "725           726       0.0       3    1  1.0   1.0         2      4       0\n",
       "1049         1050       NaN       1    1  2.0   2.0         2      4       0\n",
       "116           117       0.0       3    1  4.0   1.0         1      4       0\n",
       "296           297       0.0       3    1  1.0   1.0         0      4       0\n",
       "970           971       NaN       3    0  1.0   1.0         1      1       0\n",
       "1184         1185       NaN       1    1  3.0   3.0         2      3       2\n",
       "1004         1005       NaN       3    0  1.0   1.0         1      1       0"
      ]
     },
     "execution_count": 19,
     "metadata": {},
     "output_type": "execute_result"
    }
   ],
   "source": [
    "df_all.sample(10)"
   ]
  },
  {
   "cell_type": "markdown",
   "id": "d0f60bb9",
   "metadata": {
    "papermill": {
     "duration": 0.0113,
     "end_time": "2022-10-12T07:29:10.452883",
     "exception": false,
     "start_time": "2022-10-12T07:29:10.441583",
     "status": "completed"
    },
    "tags": []
   },
   "source": [
    "# Assigning the data to x and y values and performing the RandomForest algorithm."
   ]
  },
  {
   "cell_type": "code",
   "execution_count": 20,
   "id": "d38df52a",
   "metadata": {
    "execution": {
     "iopub.execute_input": "2022-10-12T07:29:10.477723Z",
     "iopub.status.busy": "2022-10-12T07:29:10.476990Z",
     "iopub.status.idle": "2022-10-12T07:29:10.483779Z",
     "shell.execute_reply": "2022-10-12T07:29:10.482908Z"
    },
    "papermill": {
     "duration": 0.021433,
     "end_time": "2022-10-12T07:29:10.485701",
     "exception": false,
     "start_time": "2022-10-12T07:29:10.464268",
     "status": "completed"
    },
    "tags": []
   },
   "outputs": [],
   "source": [
    "df_train, df_test = division(df_all)\n",
    "\n",
    "x_train = df_train.drop(['Survived'], axis = 1)\n",
    "y_train = df_train['Survived']\n",
    "\n",
    "x_test = df_test"
   ]
  },
  {
   "cell_type": "code",
   "execution_count": 21,
   "id": "b280c504",
   "metadata": {
    "execution": {
     "iopub.execute_input": "2022-10-12T07:29:10.510502Z",
     "iopub.status.busy": "2022-10-12T07:29:10.510049Z",
     "iopub.status.idle": "2022-10-12T07:29:14.243131Z",
     "shell.execute_reply": "2022-10-12T07:29:14.241958Z"
    },
    "papermill": {
     "duration": 3.748826,
     "end_time": "2022-10-12T07:29:14.246022",
     "exception": false,
     "start_time": "2022-10-12T07:29:10.497196",
     "status": "completed"
    },
    "tags": []
   },
   "outputs": [],
   "source": [
    "model = RandomForestClassifier(criterion = 'gini',\n",
    "                               n_estimators = 2000,\n",
    "                               max_depth = 5,\n",
    "                               max_features = 'sqrt',\n",
    "                               random_state = 20)\n",
    "model.fit(x_train, y_train)\n",
    "y_pred = model.predict(x_test).astype('int64')"
   ]
  },
  {
   "cell_type": "markdown",
   "id": "95b97dc1",
   "metadata": {
    "papermill": {
     "duration": 0.01277,
     "end_time": "2022-10-12T07:29:14.271780",
     "exception": false,
     "start_time": "2022-10-12T07:29:14.259010",
     "status": "completed"
    },
    "tags": []
   },
   "source": [
    "# Making a submission."
   ]
  },
  {
   "cell_type": "code",
   "execution_count": 22,
   "id": "03d0937a",
   "metadata": {
    "execution": {
     "iopub.execute_input": "2022-10-12T07:29:14.296890Z",
     "iopub.status.busy": "2022-10-12T07:29:14.296233Z",
     "iopub.status.idle": "2022-10-12T07:29:14.304467Z",
     "shell.execute_reply": "2022-10-12T07:29:14.303695Z"
    },
    "papermill": {
     "duration": 0.023306,
     "end_time": "2022-10-12T07:29:14.306604",
     "exception": false,
     "start_time": "2022-10-12T07:29:14.283298",
     "status": "completed"
    },
    "tags": []
   },
   "outputs": [],
   "source": [
    "submission = pd.DataFrame({'PassengerId': df_test['PassengerId'], 'Survived': y_pred})\n",
    "submission.to_csv('submission.csv', index = False)"
   ]
  }
 ],
 "metadata": {
  "kernelspec": {
   "display_name": "Python 3",
   "language": "python",
   "name": "python3"
  },
  "language_info": {
   "codemirror_mode": {
    "name": "ipython",
    "version": 3
   },
   "file_extension": ".py",
   "mimetype": "text/x-python",
   "name": "python",
   "nbconvert_exporter": "python",
   "pygments_lexer": "ipython3",
   "version": "3.7.12"
  },
  "papermill": {
   "default_parameters": {},
   "duration": 15.932345,
   "end_time": "2022-10-12T07:29:15.038732",
   "environment_variables": {},
   "exception": null,
   "input_path": "__notebook__.ipynb",
   "output_path": "__notebook__.ipynb",
   "parameters": {},
   "start_time": "2022-10-12T07:28:59.106387",
   "version": "2.3.4"
  }
 },
 "nbformat": 4,
 "nbformat_minor": 5
}
